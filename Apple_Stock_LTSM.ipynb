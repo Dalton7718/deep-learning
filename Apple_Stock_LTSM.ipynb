{
  "nbformat": 4,
  "nbformat_minor": 0,
  "metadata": {
    "colab": {
      "name": "Apple Stock LTSM.ipynb",
      "provenance": [],
      "collapsed_sections": [],
      "authorship_tag": "ABX9TyOKgIHvzr/6lQ8M5tTUD7Xp",
      "include_colab_link": true
    },
    "kernelspec": {
      "name": "python3",
      "display_name": "Python 3"
    },
    "language_info": {
      "name": "python"
    }
  },
  "cells": [
    {
      "cell_type": "markdown",
      "metadata": {
        "id": "view-in-github",
        "colab_type": "text"
      },
      "source": [
        "<a href=\"https://colab.research.google.com/github/Dalton7718/deep-learning/blob/main/Apple_Stock_LTSM.ipynb\" target=\"_parent\"><img src=\"https://colab.research.google.com/assets/colab-badge.svg\" alt=\"Open In Colab\"/></a>"
      ]
    },
    {
      "cell_type": "code",
      "execution_count": 30,
      "metadata": {
        "id": "kvhFhN7kZ-oA"
      },
      "outputs": [],
      "source": [
        "import tensorflow as tf\n",
        "from tensorflow.keras.models import Sequential\n",
        "from tensorflow.keras.layers import Dense\n",
        "from tensorflow.keras.layers import LSTM\n",
        "import pandas as pd\n",
        "import numpy as np\n",
        "import pandas_datareader as pdr\n",
        "import matplotlib.pyplot as plt\n",
        "from sklearn.preprocessing import MinMaxScaler\n",
        "import math\n",
        "from sklearn.metrics import mean_squared_error\n",
        "from sklearn.metrics import mean_absolute_error\n",
        "import seaborn as sns"
      ]
    },
    {
      "cell_type": "code",
      "source": [
        "#READ DATA FROM TIINGO\n",
        "df = pdr.get_data_tiingo(\"TSLA\",api_key='2338c2d15973242e479e2623c925e0bf885160df')\n",
        "#convert the data into a csv file\n",
        "df.to_csv(\"TSLA.csv\")\n",
        "#read the first 5 columns\n",
        "df.head()"
      ],
      "metadata": {
        "colab": {
          "base_uri": "https://localhost:8080/",
          "height": 293
        },
        "id": "3L3HN1xEaCx-",
        "outputId": "99a677af-ab6d-414a-8689-3119d64147a4"
      },
      "execution_count": 2,
      "outputs": [
        {
          "output_type": "stream",
          "name": "stderr",
          "text": [
            "/usr/local/lib/python3.7/dist-packages/pandas_datareader/tiingo.py:234: FutureWarning: In a future version of pandas all arguments of concat except for the argument 'objs' will be keyword-only\n",
            "  return pd.concat(dfs, self._concat_axis)\n"
          ]
        },
        {
          "output_type": "execute_result",
          "data": {
            "text/plain": [
              "                                   close    high       low    open   volume  \\\n",
              "symbol date                                                                   \n",
              "TSLA   2017-04-19 00:00:00+00:00  305.52  306.62  302.1100  302.46  3898024   \n",
              "       2017-04-20 00:00:00+00:00  302.51  309.15  300.2300  306.51  6149352   \n",
              "       2017-04-21 00:00:00+00:00  305.60  306.40  300.4200  302.00  4509756   \n",
              "       2017-04-24 00:00:00+00:00  308.03  310.55  306.0215  309.22  5077561   \n",
              "       2017-04-25 00:00:00+00:00  313.79  313.98  305.8600  308.00  6666406   \n",
              "\n",
              "                                  adjClose  adjHigh   adjLow  adjOpen  \\\n",
              "symbol date                                                             \n",
              "TSLA   2017-04-19 00:00:00+00:00    61.104   61.324  60.4220   60.492   \n",
              "       2017-04-20 00:00:00+00:00    60.502   61.830  60.0460   61.302   \n",
              "       2017-04-21 00:00:00+00:00    61.120   61.280  60.0840   60.400   \n",
              "       2017-04-24 00:00:00+00:00    61.606   62.110  61.2043   61.844   \n",
              "       2017-04-25 00:00:00+00:00    62.758   62.796  61.1720   61.600   \n",
              "\n",
              "                                  adjVolume  divCash  splitFactor  \n",
              "symbol date                                                        \n",
              "TSLA   2017-04-19 00:00:00+00:00   19490120      0.0          1.0  \n",
              "       2017-04-20 00:00:00+00:00   30746760      0.0          1.0  \n",
              "       2017-04-21 00:00:00+00:00   22548780      0.0          1.0  \n",
              "       2017-04-24 00:00:00+00:00   25387805      0.0          1.0  \n",
              "       2017-04-25 00:00:00+00:00   33332030      0.0          1.0  "
            ],
            "text/html": [
              "\n",
              "  <div id=\"df-8ede3112-e5fb-4d5d-bf26-09e8b5760b79\">\n",
              "    <div class=\"colab-df-container\">\n",
              "      <div>\n",
              "<style scoped>\n",
              "    .dataframe tbody tr th:only-of-type {\n",
              "        vertical-align: middle;\n",
              "    }\n",
              "\n",
              "    .dataframe tbody tr th {\n",
              "        vertical-align: top;\n",
              "    }\n",
              "\n",
              "    .dataframe thead th {\n",
              "        text-align: right;\n",
              "    }\n",
              "</style>\n",
              "<table border=\"1\" class=\"dataframe\">\n",
              "  <thead>\n",
              "    <tr style=\"text-align: right;\">\n",
              "      <th></th>\n",
              "      <th></th>\n",
              "      <th>close</th>\n",
              "      <th>high</th>\n",
              "      <th>low</th>\n",
              "      <th>open</th>\n",
              "      <th>volume</th>\n",
              "      <th>adjClose</th>\n",
              "      <th>adjHigh</th>\n",
              "      <th>adjLow</th>\n",
              "      <th>adjOpen</th>\n",
              "      <th>adjVolume</th>\n",
              "      <th>divCash</th>\n",
              "      <th>splitFactor</th>\n",
              "    </tr>\n",
              "    <tr>\n",
              "      <th>symbol</th>\n",
              "      <th>date</th>\n",
              "      <th></th>\n",
              "      <th></th>\n",
              "      <th></th>\n",
              "      <th></th>\n",
              "      <th></th>\n",
              "      <th></th>\n",
              "      <th></th>\n",
              "      <th></th>\n",
              "      <th></th>\n",
              "      <th></th>\n",
              "      <th></th>\n",
              "      <th></th>\n",
              "    </tr>\n",
              "  </thead>\n",
              "  <tbody>\n",
              "    <tr>\n",
              "      <th rowspan=\"5\" valign=\"top\">TSLA</th>\n",
              "      <th>2017-04-19 00:00:00+00:00</th>\n",
              "      <td>305.52</td>\n",
              "      <td>306.62</td>\n",
              "      <td>302.1100</td>\n",
              "      <td>302.46</td>\n",
              "      <td>3898024</td>\n",
              "      <td>61.104</td>\n",
              "      <td>61.324</td>\n",
              "      <td>60.4220</td>\n",
              "      <td>60.492</td>\n",
              "      <td>19490120</td>\n",
              "      <td>0.0</td>\n",
              "      <td>1.0</td>\n",
              "    </tr>\n",
              "    <tr>\n",
              "      <th>2017-04-20 00:00:00+00:00</th>\n",
              "      <td>302.51</td>\n",
              "      <td>309.15</td>\n",
              "      <td>300.2300</td>\n",
              "      <td>306.51</td>\n",
              "      <td>6149352</td>\n",
              "      <td>60.502</td>\n",
              "      <td>61.830</td>\n",
              "      <td>60.0460</td>\n",
              "      <td>61.302</td>\n",
              "      <td>30746760</td>\n",
              "      <td>0.0</td>\n",
              "      <td>1.0</td>\n",
              "    </tr>\n",
              "    <tr>\n",
              "      <th>2017-04-21 00:00:00+00:00</th>\n",
              "      <td>305.60</td>\n",
              "      <td>306.40</td>\n",
              "      <td>300.4200</td>\n",
              "      <td>302.00</td>\n",
              "      <td>4509756</td>\n",
              "      <td>61.120</td>\n",
              "      <td>61.280</td>\n",
              "      <td>60.0840</td>\n",
              "      <td>60.400</td>\n",
              "      <td>22548780</td>\n",
              "      <td>0.0</td>\n",
              "      <td>1.0</td>\n",
              "    </tr>\n",
              "    <tr>\n",
              "      <th>2017-04-24 00:00:00+00:00</th>\n",
              "      <td>308.03</td>\n",
              "      <td>310.55</td>\n",
              "      <td>306.0215</td>\n",
              "      <td>309.22</td>\n",
              "      <td>5077561</td>\n",
              "      <td>61.606</td>\n",
              "      <td>62.110</td>\n",
              "      <td>61.2043</td>\n",
              "      <td>61.844</td>\n",
              "      <td>25387805</td>\n",
              "      <td>0.0</td>\n",
              "      <td>1.0</td>\n",
              "    </tr>\n",
              "    <tr>\n",
              "      <th>2017-04-25 00:00:00+00:00</th>\n",
              "      <td>313.79</td>\n",
              "      <td>313.98</td>\n",
              "      <td>305.8600</td>\n",
              "      <td>308.00</td>\n",
              "      <td>6666406</td>\n",
              "      <td>62.758</td>\n",
              "      <td>62.796</td>\n",
              "      <td>61.1720</td>\n",
              "      <td>61.600</td>\n",
              "      <td>33332030</td>\n",
              "      <td>0.0</td>\n",
              "      <td>1.0</td>\n",
              "    </tr>\n",
              "  </tbody>\n",
              "</table>\n",
              "</div>\n",
              "      <button class=\"colab-df-convert\" onclick=\"convertToInteractive('df-8ede3112-e5fb-4d5d-bf26-09e8b5760b79')\"\n",
              "              title=\"Convert this dataframe to an interactive table.\"\n",
              "              style=\"display:none;\">\n",
              "        \n",
              "  <svg xmlns=\"http://www.w3.org/2000/svg\" height=\"24px\"viewBox=\"0 0 24 24\"\n",
              "       width=\"24px\">\n",
              "    <path d=\"M0 0h24v24H0V0z\" fill=\"none\"/>\n",
              "    <path d=\"M18.56 5.44l.94 2.06.94-2.06 2.06-.94-2.06-.94-.94-2.06-.94 2.06-2.06.94zm-11 1L8.5 8.5l.94-2.06 2.06-.94-2.06-.94L8.5 2.5l-.94 2.06-2.06.94zm10 10l.94 2.06.94-2.06 2.06-.94-2.06-.94-.94-2.06-.94 2.06-2.06.94z\"/><path d=\"M17.41 7.96l-1.37-1.37c-.4-.4-.92-.59-1.43-.59-.52 0-1.04.2-1.43.59L10.3 9.45l-7.72 7.72c-.78.78-.78 2.05 0 2.83L4 21.41c.39.39.9.59 1.41.59.51 0 1.02-.2 1.41-.59l7.78-7.78 2.81-2.81c.8-.78.8-2.07 0-2.86zM5.41 20L4 18.59l7.72-7.72 1.47 1.35L5.41 20z\"/>\n",
              "  </svg>\n",
              "      </button>\n",
              "      \n",
              "  <style>\n",
              "    .colab-df-container {\n",
              "      display:flex;\n",
              "      flex-wrap:wrap;\n",
              "      gap: 12px;\n",
              "    }\n",
              "\n",
              "    .colab-df-convert {\n",
              "      background-color: #E8F0FE;\n",
              "      border: none;\n",
              "      border-radius: 50%;\n",
              "      cursor: pointer;\n",
              "      display: none;\n",
              "      fill: #1967D2;\n",
              "      height: 32px;\n",
              "      padding: 0 0 0 0;\n",
              "      width: 32px;\n",
              "    }\n",
              "\n",
              "    .colab-df-convert:hover {\n",
              "      background-color: #E2EBFA;\n",
              "      box-shadow: 0px 1px 2px rgba(60, 64, 67, 0.3), 0px 1px 3px 1px rgba(60, 64, 67, 0.15);\n",
              "      fill: #174EA6;\n",
              "    }\n",
              "\n",
              "    [theme=dark] .colab-df-convert {\n",
              "      background-color: #3B4455;\n",
              "      fill: #D2E3FC;\n",
              "    }\n",
              "\n",
              "    [theme=dark] .colab-df-convert:hover {\n",
              "      background-color: #434B5C;\n",
              "      box-shadow: 0px 1px 3px 1px rgba(0, 0, 0, 0.15);\n",
              "      filter: drop-shadow(0px 1px 2px rgba(0, 0, 0, 0.3));\n",
              "      fill: #FFFFFF;\n",
              "    }\n",
              "  </style>\n",
              "\n",
              "      <script>\n",
              "        const buttonEl =\n",
              "          document.querySelector('#df-8ede3112-e5fb-4d5d-bf26-09e8b5760b79 button.colab-df-convert');\n",
              "        buttonEl.style.display =\n",
              "          google.colab.kernel.accessAllowed ? 'block' : 'none';\n",
              "\n",
              "        async function convertToInteractive(key) {\n",
              "          const element = document.querySelector('#df-8ede3112-e5fb-4d5d-bf26-09e8b5760b79');\n",
              "          const dataTable =\n",
              "            await google.colab.kernel.invokeFunction('convertToInteractive',\n",
              "                                                     [key], {});\n",
              "          if (!dataTable) return;\n",
              "\n",
              "          const docLinkHtml = 'Like what you see? Visit the ' +\n",
              "            '<a target=\"_blank\" href=https://colab.research.google.com/notebooks/data_table.ipynb>data table notebook</a>'\n",
              "            + ' to learn more about interactive tables.';\n",
              "          element.innerHTML = '';\n",
              "          dataTable['output_type'] = 'display_data';\n",
              "          await google.colab.output.renderOutput(dataTable, element);\n",
              "          const docLink = document.createElement('div');\n",
              "          docLink.innerHTML = docLinkHtml;\n",
              "          element.appendChild(docLink);\n",
              "        }\n",
              "      </script>\n",
              "    </div>\n",
              "  </div>\n",
              "  "
            ]
          },
          "metadata": {},
          "execution_count": 2
        }
      ]
    },
    {
      "cell_type": "code",
      "source": [
        "#GET THE 'CLOSE' COLUMN\n",
        "df1=df.reset_index()['close']\n",
        "\n",
        "#print the first 5 rows\n",
        "df1.head()"
      ],
      "metadata": {
        "colab": {
          "base_uri": "https://localhost:8080/"
        },
        "id": "l6a_ahrday81",
        "outputId": "e4e4b464-a43e-45a2-92d8-56c55b22d426"
      },
      "execution_count": 3,
      "outputs": [
        {
          "output_type": "execute_result",
          "data": {
            "text/plain": [
              "0    305.52\n",
              "1    302.51\n",
              "2    305.60\n",
              "3    308.03\n",
              "4    313.79\n",
              "Name: close, dtype: float64"
            ]
          },
          "metadata": {},
          "execution_count": 3
        }
      ]
    },
    {
      "cell_type": "code",
      "source": [
        "#plot the closing prices \n",
        "df1.plot()"
      ],
      "metadata": {
        "colab": {
          "base_uri": "https://localhost:8080/",
          "height": 283
        },
        "id": "MY78bzbkbi48",
        "outputId": "425ce66f-8dcb-4889-eeeb-90296d9af5b1"
      },
      "execution_count": 4,
      "outputs": [
        {
          "output_type": "execute_result",
          "data": {
            "text/plain": [
              "<matplotlib.axes._subplots.AxesSubplot at 0x7f5ca53c27d0>"
            ]
          },
          "metadata": {},
          "execution_count": 4
        },
        {
          "output_type": "display_data",
          "data": {
            "text/plain": [
              "<Figure size 432x288 with 1 Axes>"
            ],
            "image/png": "[encoded data removed]"
          },
          "metadata": {
            "needs_background": "light"
          }
        }
      ]
    },
    {
      "cell_type": "code",
      "source": [
        "#create a boxplot\n",
        "plt.boxplot(df1,vert = False)\n",
        "plt.title(\"Closing Prices\");\n",
        "plt.title(\"Distribution of Prices\");"
      ],
      "metadata": {
        "colab": {
          "base_uri": "https://localhost:8080/",
          "height": 281
        },
        "id": "DKCMz6aImYts",
        "outputId": "15219884-23b9-4257-c652-2818c3df0241"
      },
      "execution_count": 5,
      "outputs": [
        {
          "output_type": "display_data",
          "data": {
            "text/plain": [
              "<Figure size 432x288 with 1 Axes>"
            ],
            "image/png": "[encoded data removed]"
          },
          "metadata": {
            "needs_background": "light"
          }
        }
      ]
    },
    {
      "cell_type": "code",
      "source": [
        "\n"
      ],
      "metadata": {
        "id": "X5A_zrt2otLy"
      },
      "execution_count": 5,
      "outputs": []
    },
    {
      "cell_type": "code",
      "source": [
        "#scale the data using min max\n",
        "scaler=MinMaxScaler(feature_range=(0,1))\n",
        "df1=scaler.fit_transform(np.array(df1).reshape(-1,1))"
      ],
      "metadata": {
        "id": "5OuSjNyXb1DS"
      },
      "execution_count": 6,
      "outputs": []
    },
    {
      "cell_type": "code",
      "source": [
        "#split the data\n",
        "##splitting dataset into train and test split\n",
        "training_size=int(len(df1)*0.65)\n",
        "test_size=len(df1)-training_size\n",
        "train_data,test_data=df1[0:training_size,:],df1[training_size:len(df1),:1]"
      ],
      "metadata": {
        "id": "iSzecWY9cAQ0"
      },
      "execution_count": 7,
      "outputs": []
    },
    {
      "cell_type": "code",
      "source": [
        "# convert an array of values into a dataset matrix\n",
        "def create_dataset(dataset, time_step=1):\n",
        "\tdataX, dataY = [], []\n",
        "\tfor i in range(len(dataset)-time_step-1):\n",
        "\t\ta = dataset[i:(i+time_step), 0]   ###i=0, 0,1,2,3-----99   100 \n",
        "\t\tdataX.append(a)\n",
        "\t\tdataY.append(dataset[i + time_step, 0])\n",
        "\treturn numpy.array(dataX), numpy.array(dataY)"
      ],
      "metadata": {
        "id": "5w9xXj-IcF_I"
      },
      "execution_count": 8,
      "outputs": []
    },
    {
      "cell_type": "code",
      "source": [
        "# reshape into X=t,t+1,t+2,t+3 and Y=t+4\n",
        "import numpy \n",
        "time_step = 100\n",
        "X_train, y_train = create_dataset(train_data, time_step)\n",
        "X_test, ytest = create_dataset(test_data, time_step)"
      ],
      "metadata": {
        "id": "T9_G360DcQG-"
      },
      "execution_count": 9,
      "outputs": []
    },
    {
      "cell_type": "code",
      "source": [
        "#print the shape of the data\n",
        "print(X_train.shape), print(y_train.shape)"
      ],
      "metadata": {
        "colab": {
          "base_uri": "https://localhost:8080/"
        },
        "id": "jgky1pQ2cTXp",
        "outputId": "97b352ff-7833-418e-e468-eb3063daddf7"
      },
      "execution_count": 10,
      "outputs": [
        {
          "output_type": "stream",
          "name": "stdout",
          "text": [
            "(716, 100)\n",
            "(716,)\n"
          ]
        },
        {
          "output_type": "execute_result",
          "data": {
            "text/plain": [
              "(None, None)"
            ]
          },
          "metadata": {},
          "execution_count": 10
        }
      ]
    },
    {
      "cell_type": "code",
      "source": [
        "#print shape of the test data\n",
        "print(X_test.shape), print(ytest.shape)"
      ],
      "metadata": {
        "colab": {
          "base_uri": "https://localhost:8080/"
        },
        "id": "zHSXUTq9cm0W",
        "outputId": "469d4fa9-d178-4db8-c81b-ea217c454e0c"
      },
      "execution_count": 11,
      "outputs": [
        {
          "output_type": "stream",
          "name": "stdout",
          "text": [
            "(340, 100)\n",
            "(340,)\n"
          ]
        },
        {
          "output_type": "execute_result",
          "data": {
            "text/plain": [
              "(None, None)"
            ]
          },
          "metadata": {},
          "execution_count": 11
        }
      ]
    },
    {
      "cell_type": "code",
      "source": [
        "# reshape input to be [samples, time steps, features] which is required for LSTM\n",
        "X_train =X_train.reshape(X_train.shape[0],X_train.shape[1] , 1)\n",
        "X_test = X_test.reshape(X_test.shape[0],X_test.shape[1] , 1)"
      ],
      "metadata": {
        "id": "H1rPqHlwcsFK"
      },
      "execution_count": 12,
      "outputs": []
    },
    {
      "cell_type": "code",
      "source": [
        "model=Sequential()\n",
        "model.add(LSTM(50,return_sequences=True,input_shape=(100,1)))\n",
        "model.add(LSTM(50,return_sequences=True))\n",
        "model.add(LSTM(50))\n",
        "model.add(Dense(1))\n",
        "model.compile(loss='mean_squared_error',optimizer='adam')"
      ],
      "metadata": {
        "id": "5LdqvdUCczju"
      },
      "execution_count": 14,
      "outputs": []
    },
    {
      "cell_type": "code",
      "source": [
        "#print the summary\n",
        "model.summary()"
      ],
      "metadata": {
        "colab": {
          "base_uri": "https://localhost:8080/"
        },
        "id": "FpaLyyEMc3Vd",
        "outputId": "352f8e4e-b97d-4bb0-eb23-0f3cea2f05f0"
      },
      "execution_count": 15,
      "outputs": [
        {
          "output_type": "stream",
          "name": "stdout",
          "text": [
            "Model: \"sequential\"\n",
            "_________________________________________________________________\n",
            " Layer (type)                Output Shape              Param #   \n",
            "=================================================================\n",
            " lstm (LSTM)                 (None, 100, 50)           10400     \n",
            "                                                                 \n",
            " lstm_1 (LSTM)               (None, 100, 50)           20200     \n",
            "                                                                 \n",
            " lstm_2 (LSTM)               (None, 50)                20200     \n",
            "                                                                 \n",
            " dense (Dense)               (None, 1)                 51        \n",
            "                                                                 \n",
            "=================================================================\n",
            "Total params: 50,851\n",
            "Trainable params: 50,851\n",
            "Non-trainable params: 0\n",
            "_________________________________________________________________\n"
          ]
        }
      ]
    },
    {
      "cell_type": "code",
      "source": [
        "#fit the model\n",
        "model.fit(X_train,y_train,validation_data=(X_test,ytest),epochs=100,batch_size=64,verbose=1)"
      ],
      "metadata": {
        "colab": {
          "base_uri": "https://localhost:8080/"
        },
        "id": "xBsCiD2qdAQH",
        "outputId": "9c153aee-8702-45ff-875c-79b67e2ec748"
      },
      "execution_count": 16,
      "outputs": [
        {
          "output_type": "stream",
          "name": "stdout",
          "text": [
            "Epoch 1/100\n",
            "12/12 [==============================] - 17s 602ms/step - loss: 0.0067 - val_loss: 0.0033\n",
            "Epoch 2/100\n",
            "12/12 [==============================] - 4s 325ms/step - loss: 0.0024 - val_loss: 0.0024\n",
            "Epoch 3/100\n",
            "12/12 [==============================] - 2s 170ms/step - loss: 0.0016 - val_loss: 0.0023\n",
            "Epoch 4/100\n",
            "12/12 [==============================] - 2s 181ms/step - loss: 0.0012 - val_loss: 0.0060\n",
            "Epoch 5/100\n",
            "12/12 [==============================] - 2s 174ms/step - loss: 0.0012 - val_loss: 0.0035\n",
            "Epoch 6/100\n",
            "12/12 [==============================] - 2s 170ms/step - loss: 0.0011 - val_loss: 0.0032\n",
            "Epoch 7/100\n",
            "12/12 [==============================] - 2s 167ms/step - loss: 9.0607e-04 - val_loss: 0.0032\n",
            "Epoch 8/100\n",
            "12/12 [==============================] - 2s 167ms/step - loss: 8.6813e-04 - val_loss: 0.0037\n",
            "Epoch 9/100\n",
            "12/12 [==============================] - 2s 172ms/step - loss: 8.5209e-04 - val_loss: 0.0016\n",
            "Epoch 10/100\n",
            "12/12 [==============================] - 2s 170ms/step - loss: 9.2304e-04 - val_loss: 0.0016\n",
            "Epoch 11/100\n",
            "12/12 [==============================] - 2s 178ms/step - loss: 8.0721e-04 - val_loss: 0.0016\n",
            "Epoch 12/100\n",
            "12/12 [==============================] - 2s 179ms/step - loss: 7.2476e-04 - val_loss: 0.0025\n",
            "Epoch 13/100\n",
            "12/12 [==============================] - 2s 168ms/step - loss: 7.0969e-04 - val_loss: 0.0021\n",
            "Epoch 14/100\n",
            "12/12 [==============================] - 2s 176ms/step - loss: 7.3291e-04 - val_loss: 0.0025\n",
            "Epoch 15/100\n",
            "12/12 [==============================] - 2s 168ms/step - loss: 5.7935e-04 - val_loss: 0.0030\n",
            "Epoch 16/100\n",
            "12/12 [==============================] - 2s 167ms/step - loss: 5.4378e-04 - val_loss: 0.0024\n",
            "Epoch 17/100\n",
            "12/12 [==============================] - 2s 169ms/step - loss: 5.0283e-04 - val_loss: 0.0014\n",
            "Epoch 18/100\n",
            "12/12 [==============================] - 2s 173ms/step - loss: 4.5758e-04 - val_loss: 0.0013\n",
            "Epoch 19/100\n",
            "12/12 [==============================] - 2s 184ms/step - loss: 4.8418e-04 - val_loss: 0.0016\n",
            "Epoch 20/100\n",
            "12/12 [==============================] - 2s 182ms/step - loss: 4.4544e-04 - val_loss: 0.0024\n",
            "Epoch 21/100\n",
            "12/12 [==============================] - 2s 168ms/step - loss: 4.4137e-04 - val_loss: 0.0028\n",
            "Epoch 22/100\n",
            "12/12 [==============================] - 2s 176ms/step - loss: 4.3392e-04 - val_loss: 0.0040\n",
            "Epoch 23/100\n",
            "12/12 [==============================] - 2s 181ms/step - loss: 4.4443e-04 - val_loss: 0.0041\n",
            "Epoch 24/100\n",
            "12/12 [==============================] - 2s 172ms/step - loss: 4.0734e-04 - val_loss: 0.0021\n",
            "Epoch 25/100\n",
            "12/12 [==============================] - 2s 169ms/step - loss: 3.9556e-04 - val_loss: 0.0021\n",
            "Epoch 26/100\n",
            "12/12 [==============================] - 2s 178ms/step - loss: 4.4137e-04 - val_loss: 0.0017\n",
            "Epoch 27/100\n",
            "12/12 [==============================] - 2s 176ms/step - loss: 4.2604e-04 - val_loss: 0.0043\n",
            "Epoch 28/100\n",
            "12/12 [==============================] - 2s 169ms/step - loss: 4.8503e-04 - val_loss: 0.0028\n",
            "Epoch 29/100\n",
            "12/12 [==============================] - 2s 171ms/step - loss: 4.5023e-04 - val_loss: 0.0018\n",
            "Epoch 30/100\n",
            "12/12 [==============================] - 2s 170ms/step - loss: 4.1077e-04 - val_loss: 0.0023\n",
            "Epoch 31/100\n",
            "12/12 [==============================] - 2s 167ms/step - loss: 4.0733e-04 - val_loss: 0.0031\n",
            "Epoch 32/100\n",
            "12/12 [==============================] - 2s 167ms/step - loss: 4.6054e-04 - val_loss: 0.0019\n",
            "Epoch 33/100\n",
            "12/12 [==============================] - 2s 169ms/step - loss: 3.9145e-04 - val_loss: 0.0035\n",
            "Epoch 34/100\n",
            "12/12 [==============================] - 2s 168ms/step - loss: 3.7490e-04 - val_loss: 0.0017\n",
            "Epoch 35/100\n",
            "12/12 [==============================] - 2s 179ms/step - loss: 4.1609e-04 - val_loss: 0.0012\n",
            "Epoch 36/100\n",
            "12/12 [==============================] - 2s 182ms/step - loss: 4.2015e-04 - val_loss: 0.0023\n",
            "Epoch 37/100\n",
            "12/12 [==============================] - 2s 169ms/step - loss: 3.7870e-04 - val_loss: 0.0015\n",
            "Epoch 38/100\n",
            "12/12 [==============================] - 2s 175ms/step - loss: 3.8046e-04 - val_loss: 0.0013\n",
            "Epoch 39/100\n",
            "12/12 [==============================] - 2s 169ms/step - loss: 4.5116e-04 - val_loss: 0.0014\n",
            "Epoch 40/100\n",
            "12/12 [==============================] - 2s 167ms/step - loss: 3.5334e-04 - val_loss: 0.0013\n",
            "Epoch 41/100\n",
            "12/12 [==============================] - 2s 180ms/step - loss: 3.5947e-04 - val_loss: 0.0029\n",
            "Epoch 42/100\n",
            "12/12 [==============================] - 2s 180ms/step - loss: 3.9034e-04 - val_loss: 0.0016\n",
            "Epoch 43/100\n",
            "12/12 [==============================] - 2s 183ms/step - loss: 3.9748e-04 - val_loss: 0.0018\n",
            "Epoch 44/100\n",
            "12/12 [==============================] - 2s 177ms/step - loss: 3.5637e-04 - val_loss: 0.0014\n",
            "Epoch 45/100\n",
            "12/12 [==============================] - 2s 171ms/step - loss: 3.7247e-04 - val_loss: 0.0014\n",
            "Epoch 46/100\n",
            "12/12 [==============================] - 2s 195ms/step - loss: 3.6554e-04 - val_loss: 0.0019\n",
            "Epoch 47/100\n",
            "12/12 [==============================] - 2s 180ms/step - loss: 3.6808e-04 - val_loss: 0.0027\n",
            "Epoch 48/100\n",
            "12/12 [==============================] - 2s 169ms/step - loss: 4.8532e-04 - val_loss: 0.0022\n",
            "Epoch 49/100\n",
            "12/12 [==============================] - 3s 221ms/step - loss: 4.1451e-04 - val_loss: 0.0018\n",
            "Epoch 50/100\n",
            "12/12 [==============================] - 2s 170ms/step - loss: 3.8904e-04 - val_loss: 0.0011\n",
            "Epoch 51/100\n",
            "12/12 [==============================] - 2s 172ms/step - loss: 3.2312e-04 - val_loss: 0.0013\n",
            "Epoch 52/100\n",
            "12/12 [==============================] - 2s 183ms/step - loss: 3.6115e-04 - val_loss: 0.0015\n",
            "Epoch 53/100\n",
            "12/12 [==============================] - 2s 170ms/step - loss: 3.1478e-04 - val_loss: 0.0012\n",
            "Epoch 54/100\n",
            "12/12 [==============================] - 2s 179ms/step - loss: 3.4096e-04 - val_loss: 0.0021\n",
            "Epoch 55/100\n",
            "12/12 [==============================] - 2s 175ms/step - loss: 3.4223e-04 - val_loss: 0.0013\n",
            "Epoch 56/100\n",
            "12/12 [==============================] - 2s 175ms/step - loss: 3.1608e-04 - val_loss: 0.0026\n",
            "Epoch 57/100\n",
            "12/12 [==============================] - 2s 168ms/step - loss: 3.1389e-04 - val_loss: 0.0018\n",
            "Epoch 58/100\n",
            "12/12 [==============================] - 2s 167ms/step - loss: 2.9093e-04 - val_loss: 0.0015\n",
            "Epoch 59/100\n",
            "12/12 [==============================] - 2s 174ms/step - loss: 3.1027e-04 - val_loss: 0.0023\n",
            "Epoch 60/100\n",
            "12/12 [==============================] - 2s 182ms/step - loss: 3.0300e-04 - val_loss: 0.0021\n",
            "Epoch 61/100\n",
            "12/12 [==============================] - 2s 169ms/step - loss: 2.8274e-04 - val_loss: 0.0045\n",
            "Epoch 62/100\n",
            "12/12 [==============================] - 2s 174ms/step - loss: 2.8202e-04 - val_loss: 0.0038\n",
            "Epoch 63/100\n",
            "12/12 [==============================] - 2s 187ms/step - loss: 3.9406e-04 - val_loss: 0.0038\n",
            "Epoch 64/100\n",
            "12/12 [==============================] - 2s 178ms/step - loss: 3.5407e-04 - val_loss: 0.0036\n",
            "Epoch 65/100\n",
            "12/12 [==============================] - 2s 169ms/step - loss: 3.3148e-04 - val_loss: 0.0028\n",
            "Epoch 66/100\n",
            "12/12 [==============================] - 2s 184ms/step - loss: 3.3348e-04 - val_loss: 0.0014\n",
            "Epoch 67/100\n",
            "12/12 [==============================] - 2s 178ms/step - loss: 3.6183e-04 - val_loss: 0.0022\n",
            "Epoch 68/100\n",
            "12/12 [==============================] - 2s 175ms/step - loss: 2.7907e-04 - val_loss: 0.0011\n",
            "Epoch 69/100\n",
            "12/12 [==============================] - 2s 180ms/step - loss: 2.9467e-04 - val_loss: 0.0013\n",
            "Epoch 70/100\n",
            "12/12 [==============================] - 2s 171ms/step - loss: 2.8129e-04 - val_loss: 0.0011\n",
            "Epoch 71/100\n",
            "12/12 [==============================] - 2s 182ms/step - loss: 3.2109e-04 - val_loss: 0.0017\n",
            "Epoch 72/100\n",
            "12/12 [==============================] - 2s 168ms/step - loss: 3.0250e-04 - val_loss: 0.0011\n",
            "Epoch 73/100\n",
            "12/12 [==============================] - 2s 180ms/step - loss: 3.2800e-04 - val_loss: 0.0015\n",
            "Epoch 74/100\n",
            "12/12 [==============================] - 2s 185ms/step - loss: 2.8166e-04 - val_loss: 0.0015\n",
            "Epoch 75/100\n",
            "12/12 [==============================] - 2s 179ms/step - loss: 2.5841e-04 - val_loss: 0.0021\n",
            "Epoch 76/100\n",
            "12/12 [==============================] - 2s 172ms/step - loss: 2.7825e-04 - val_loss: 0.0019\n",
            "Epoch 77/100\n",
            "12/12 [==============================] - 2s 171ms/step - loss: 2.6865e-04 - val_loss: 0.0013\n",
            "Epoch 78/100\n",
            "12/12 [==============================] - 2s 176ms/step - loss: 2.7241e-04 - val_loss: 0.0028\n",
            "Epoch 79/100\n",
            "12/12 [==============================] - 2s 191ms/step - loss: 2.8881e-04 - val_loss: 0.0024\n",
            "Epoch 80/100\n",
            "12/12 [==============================] - 2s 179ms/step - loss: 2.3904e-04 - val_loss: 0.0015\n",
            "Epoch 81/100\n",
            "12/12 [==============================] - 2s 167ms/step - loss: 3.4887e-04 - val_loss: 0.0014\n",
            "Epoch 82/100\n",
            "12/12 [==============================] - 2s 167ms/step - loss: 2.4240e-04 - val_loss: 0.0015\n",
            "Epoch 83/100\n",
            "12/12 [==============================] - 2s 177ms/step - loss: 2.4093e-04 - val_loss: 0.0014\n",
            "Epoch 84/100\n",
            "12/12 [==============================] - 2s 171ms/step - loss: 2.2695e-04 - val_loss: 0.0013\n",
            "Epoch 85/100\n",
            "12/12 [==============================] - 2s 165ms/step - loss: 2.3969e-04 - val_loss: 0.0024\n",
            "Epoch 86/100\n",
            "12/12 [==============================] - 2s 173ms/step - loss: 2.2855e-04 - val_loss: 0.0049\n",
            "Epoch 87/100\n",
            "12/12 [==============================] - 2s 170ms/step - loss: 3.0847e-04 - val_loss: 0.0034\n",
            "Epoch 88/100\n",
            "12/12 [==============================] - 2s 168ms/step - loss: 2.9599e-04 - val_loss: 0.0011\n",
            "Epoch 89/100\n",
            "12/12 [==============================] - 2s 172ms/step - loss: 4.0092e-04 - val_loss: 0.0023\n",
            "Epoch 90/100\n",
            "12/12 [==============================] - 2s 177ms/step - loss: 3.5885e-04 - val_loss: 0.0010\n",
            "Epoch 91/100\n",
            "12/12 [==============================] - 2s 176ms/step - loss: 2.3786e-04 - val_loss: 0.0024\n",
            "Epoch 92/100\n",
            "12/12 [==============================] - 3s 228ms/step - loss: 2.1821e-04 - val_loss: 0.0018\n",
            "Epoch 93/100\n",
            "12/12 [==============================] - 3s 215ms/step - loss: 2.1140e-04 - val_loss: 0.0029\n",
            "Epoch 94/100\n",
            "12/12 [==============================] - 2s 169ms/step - loss: 2.5605e-04 - val_loss: 0.0018\n",
            "Epoch 95/100\n",
            "12/12 [==============================] - 2s 170ms/step - loss: 2.2445e-04 - val_loss: 0.0019\n",
            "Epoch 96/100\n",
            "12/12 [==============================] - 2s 179ms/step - loss: 2.4373e-04 - val_loss: 8.4934e-04\n",
            "Epoch 97/100\n",
            "12/12 [==============================] - 2s 179ms/step - loss: 2.4532e-04 - val_loss: 6.3868e-04\n",
            "Epoch 98/100\n",
            "12/12 [==============================] - 2s 167ms/step - loss: 2.7679e-04 - val_loss: 0.0010\n",
            "Epoch 99/100\n",
            "12/12 [==============================] - 2s 175ms/step - loss: 2.4167e-04 - val_loss: 5.6800e-04\n",
            "Epoch 100/100\n",
            "12/12 [==============================] - 2s 169ms/step - loss: 2.4414e-04 - val_loss: 6.2153e-04\n"
          ]
        },
        {
          "output_type": "execute_result",
          "data": {
            "text/plain": [
              "<keras.callbacks.History at 0x7f5ca04d9850>"
            ]
          },
          "metadata": {},
          "execution_count": 16
        }
      ]
    },
    {
      "cell_type": "code",
      "source": [
        "### Lets Do the prediction and check performance metrics\n",
        "train_predict=model.predict(X_train)\n",
        "test_predict=model.predict(X_test)"
      ],
      "metadata": {
        "id": "XdcOK3fYdGmp"
      },
      "execution_count": 17,
      "outputs": []
    },
    {
      "cell_type": "code",
      "source": [
        "##Transformback to original form\n",
        "train_predict=scaler.inverse_transform(train_predict)\n",
        "test_predict=scaler.inverse_transform(test_predict)"
      ],
      "metadata": {
        "id": "FYZN_AJ0eUdG"
      },
      "execution_count": 18,
      "outputs": []
    },
    {
      "cell_type": "code",
      "source": [
        "#metrics\n",
        "MSQ=math.sqrt(mean_squared_error(y_train,train_predict))\n",
        "MAE = mean_absolute_error(y_train,train_predict)\n",
        "print(\"Mean Squared Error:\",MSQ)\n",
        "print(\"Mean Absolute Error:\",MAE)"
      ],
      "metadata": {
        "colab": {
          "base_uri": "https://localhost:8080/"
        },
        "id": "Ksiu5378eYon",
        "outputId": "058ed260-790f-4180-8cf3-37e46e39e7a7"
      },
      "execution_count": 19,
      "outputs": [
        {
          "output_type": "stream",
          "name": "stdout",
          "text": [
            "Mean Squared Error: 436.96212530025264\n",
            "Mean Absolute Error: 384.68698396409394\n"
          ]
        }
      ]
    },
    {
      "cell_type": "code",
      "source": [
        "### Test Data RMSE\n",
        "math.sqrt(mean_squared_error(ytest,test_predict))"
      ],
      "metadata": {
        "colab": {
          "base_uri": "https://localhost:8080/"
        },
        "id": "Ol1anZR9etPY",
        "outputId": "0b895483-d99b-42e1-cf66-965e7ece169e"
      },
      "execution_count": 20,
      "outputs": [
        {
          "output_type": "execute_result",
          "data": {
            "text/plain": [
              "843.6016838861661"
            ]
          },
          "metadata": {},
          "execution_count": 20
        }
      ]
    },
    {
      "cell_type": "code",
      "source": [
        "#plot the results\n",
        "### Plotting \n",
        "# shift train predictions for plotting\n",
        "look_back=100\n",
        "trainPredictPlot = numpy.empty_like(df1)\n",
        "trainPredictPlot[:, :] = np.nan\n",
        "trainPredictPlot[look_back:len(train_predict)+look_back, :] = train_predict\n",
        "# shift test predictions for plotting\n",
        "testPredictPlot = numpy.empty_like(df1)\n",
        "testPredictPlot[:, :] = numpy.nan\n",
        "testPredictPlot[len(train_predict)+(look_back*2)+1:len(df1)-1, :] = test_predict\n",
        "# plot baseline and predictions\n",
        "plt.plot(scaler.inverse_transform(df1))\n",
        "plt.plot(trainPredictPlot)\n",
        "plt.plot(testPredictPlot)\n",
        "plt.show()"
      ],
      "metadata": {
        "colab": {
          "base_uri": "https://localhost:8080/",
          "height": 265
        },
        "id": "YrWrOtNTfWqa",
        "outputId": "3c8c0869-511a-491f-e451-a88d7b2cb5c7"
      },
      "execution_count": 21,
      "outputs": [
        {
          "output_type": "display_data",
          "data": {
            "text/plain": [
              "<Figure size 432x288 with 1 Axes>"
            ],
            "image/png": "[encoded data removed]"
          },
          "metadata": {
            "needs_background": "light"
          }
        }
      ]
    },
    {
      "cell_type": "code",
      "source": [
        "#lenth for the test data\n",
        "len(test_data)"
      ],
      "metadata": {
        "colab": {
          "base_uri": "https://localhost:8080/"
        },
        "id": "wRW5Mk2HfaX-",
        "outputId": "7a61f759-dc49-4c5e-a1fc-8ec064b54a77"
      },
      "execution_count": 22,
      "outputs": [
        {
          "output_type": "execute_result",
          "data": {
            "text/plain": [
              "441"
            ]
          },
          "metadata": {},
          "execution_count": 22
        }
      ]
    },
    {
      "cell_type": "code",
      "source": [
        "x_input=test_data[341:].reshape(1,-1)\n",
        "x_input.shape"
      ],
      "metadata": {
        "colab": {
          "base_uri": "https://localhost:8080/"
        },
        "id": "-zSqOWh6fo9D",
        "outputId": "f437b571-716c-4081-ebde-a76758620381"
      },
      "execution_count": 23,
      "outputs": [
        {
          "output_type": "execute_result",
          "data": {
            "text/plain": [
              "(1, 100)"
            ]
          },
          "metadata": {},
          "execution_count": 23
        }
      ]
    },
    {
      "cell_type": "code",
      "source": [
        "temp_input=list(x_input)\n",
        "temp_input=temp_input[0].tolist()"
      ],
      "metadata": {
        "id": "fW6NiGhlfrW5"
      },
      "execution_count": 24,
      "outputs": []
    },
    {
      "cell_type": "code",
      "source": [
        "# demonstrate prediction for next 10 days\n",
        "from numpy import array\n",
        "\n",
        "lst_output=[]\n",
        "n_steps=100\n",
        "i=0\n",
        "while(i<30):\n",
        "    \n",
        "    if(len(temp_input)>100):\n",
        "        #print(temp_input)\n",
        "        x_input=np.array(temp_input[1:])\n",
        "        print(\"{} day input {}\".format(i,x_input))\n",
        "        x_input=x_input.reshape(1,-1)\n",
        "        x_input = x_input.reshape((1, n_steps, 1))\n",
        "        #print(x_input)\n",
        "        yhat = model.predict(x_input, verbose=0)\n",
        "        print(\"{} day output {}\".format(i,yhat))\n",
        "        temp_input.extend(yhat[0].tolist())\n",
        "        temp_input=temp_input[1:]\n",
        "        #print(temp_input)\n",
        "        lst_output.extend(yhat.tolist())\n",
        "        i=i+1\n",
        "    else:\n",
        "        x_input = x_input.reshape((1, n_steps,1))\n",
        "        yhat = model.predict(x_input, verbose=0)\n",
        "        print(yhat[0])\n",
        "        temp_input.extend(yhat[0].tolist())\n",
        "        print(len(temp_input))\n",
        "        lst_output.extend(yhat.tolist())\n",
        "        i=i+1\n",
        "    \n",
        "\n",
        "print(lst_output)"
      ],
      "metadata": {
        "colab": {
          "base_uri": "https://localhost:8080/"
        },
        "id": "E_IE0HiUfwNR",
        "outputId": "b1d4e88d-dce0-482c-ae28-fb39d74a8d76"
      },
      "execution_count": 25,
      "outputs": [
        {
          "output_type": "stream",
          "name": "stdout",
          "text": [
            "[0.4156339]\n",
            "101\n",
            "1 day input [0.45153366 0.45491752 0.43837206 0.46510792 0.46888017 0.44472225\n",
            " 0.43967317 0.40586859 0.40297508 0.42372486 0.43208013 0.40044568\n",
            " 0.40686869 0.38229325 0.37845789 0.38694424 0.3631213  0.36586432\n",
            " 0.35002282 0.36875783 0.40290711 0.43112857 0.44420763 0.44155201\n",
            " 0.4404451  0.4327501  0.42616687 0.49559176 0.47122508 0.44138209\n",
            " 0.43001194 0.4116896  0.42681743 0.4298663  0.45016944 0.41392285\n",
            " 0.42268592 0.41341308 0.39648895 0.39678995 0.3713649  0.36461661\n",
            " 0.35898494 0.36821408 0.3156308  0.32400548 0.36787909 0.36522347\n",
            " 0.35279981 0.34575052 0.36137354 0.35361543 0.3607327  0.36558759\n",
            " 0.35226092 0.3306324  0.3382837  0.36094146 0.36140753 0.33857014\n",
            " 0.32916622 0.31195565 0.2840449  0.3018769  0.30629485 0.33569605\n",
            " 0.33275398 0.34028877 0.32057793 0.32009244 0.30372661 0.313349\n",
            " 0.33013234 0.32009729 0.29924555 0.28517609 0.30242065 0.32103429\n",
            " 0.33626407 0.35266873 0.36032489 0.39567818 0.39816874 0.40535882\n",
            " 0.40376642 0.44318811 0.44694094 0.44423191 0.43627475 0.43966831\n",
            " 0.46921516 0.44290652 0.42081679 0.42639991 0.41097593 0.38691511\n",
            " 0.39226519 0.4094612  0.39131849 0.41563389]\n",
            "1 day output [[0.42295006]]\n",
            "2 day input [0.45491752 0.43837206 0.46510792 0.46888017 0.44472225 0.43967317\n",
            " 0.40586859 0.40297508 0.42372486 0.43208013 0.40044568 0.40686869\n",
            " 0.38229325 0.37845789 0.38694424 0.3631213  0.36586432 0.35002282\n",
            " 0.36875783 0.40290711 0.43112857 0.44420763 0.44155201 0.4404451\n",
            " 0.4327501  0.42616687 0.49559176 0.47122508 0.44138209 0.43001194\n",
            " 0.4116896  0.42681743 0.4298663  0.45016944 0.41392285 0.42268592\n",
            " 0.41341308 0.39648895 0.39678995 0.3713649  0.36461661 0.35898494\n",
            " 0.36821408 0.3156308  0.32400548 0.36787909 0.36522347 0.35279981\n",
            " 0.34575052 0.36137354 0.35361543 0.3607327  0.36558759 0.35226092\n",
            " 0.3306324  0.3382837  0.36094146 0.36140753 0.33857014 0.32916622\n",
            " 0.31195565 0.2840449  0.3018769  0.30629485 0.33569605 0.33275398\n",
            " 0.34028877 0.32057793 0.32009244 0.30372661 0.313349   0.33013234\n",
            " 0.32009729 0.29924555 0.28517609 0.30242065 0.32103429 0.33626407\n",
            " 0.35266873 0.36032489 0.39567818 0.39816874 0.40535882 0.40376642\n",
            " 0.44318811 0.44694094 0.44423191 0.43627475 0.43966831 0.46921516\n",
            " 0.44290652 0.42081679 0.42639991 0.41097593 0.38691511 0.39226519\n",
            " 0.4094612  0.39131849 0.41563389 0.42295006]\n",
            "2 day output [[0.4334206]]\n",
            "3 day input [0.43837206 0.46510792 0.46888017 0.44472225 0.43967317 0.40586859\n",
            " 0.40297508 0.42372486 0.43208013 0.40044568 0.40686869 0.38229325\n",
            " 0.37845789 0.38694424 0.3631213  0.36586432 0.35002282 0.36875783\n",
            " 0.40290711 0.43112857 0.44420763 0.44155201 0.4404451  0.4327501\n",
            " 0.42616687 0.49559176 0.47122508 0.44138209 0.43001194 0.4116896\n",
            " 0.42681743 0.4298663  0.45016944 0.41392285 0.42268592 0.41341308\n",
            " 0.39648895 0.39678995 0.3713649  0.36461661 0.35898494 0.36821408\n",
            " 0.3156308  0.32400548 0.36787909 0.36522347 0.35279981 0.34575052\n",
            " 0.36137354 0.35361543 0.3607327  0.36558759 0.35226092 0.3306324\n",
            " 0.3382837  0.36094146 0.36140753 0.33857014 0.32916622 0.31195565\n",
            " 0.2840449  0.3018769  0.30629485 0.33569605 0.33275398 0.34028877\n",
            " 0.32057793 0.32009244 0.30372661 0.313349   0.33013234 0.32009729\n",
            " 0.29924555 0.28517609 0.30242065 0.32103429 0.33626407 0.35266873\n",
            " 0.36032489 0.39567818 0.39816874 0.40535882 0.40376642 0.44318811\n",
            " 0.44694094 0.44423191 0.43627475 0.43966831 0.46921516 0.44290652\n",
            " 0.42081679 0.42639991 0.41097593 0.38691511 0.39226519 0.4094612\n",
            " 0.39131849 0.41563389 0.42295006 0.4334206 ]\n",
            "3 day output [[0.44501698]]\n",
            "4 day input [0.46510792 0.46888017 0.44472225 0.43967317 0.40586859 0.40297508\n",
            " 0.42372486 0.43208013 0.40044568 0.40686869 0.38229325 0.37845789\n",
            " 0.38694424 0.3631213  0.36586432 0.35002282 0.36875783 0.40290711\n",
            " 0.43112857 0.44420763 0.44155201 0.4404451  0.4327501  0.42616687\n",
            " 0.49559176 0.47122508 0.44138209 0.43001194 0.4116896  0.42681743\n",
            " 0.4298663  0.45016944 0.41392285 0.42268592 0.41341308 0.39648895\n",
            " 0.39678995 0.3713649  0.36461661 0.35898494 0.36821408 0.3156308\n",
            " 0.32400548 0.36787909 0.36522347 0.35279981 0.34575052 0.36137354\n",
            " 0.35361543 0.3607327  0.36558759 0.35226092 0.3306324  0.3382837\n",
            " 0.36094146 0.36140753 0.33857014 0.32916622 0.31195565 0.2840449\n",
            " 0.3018769  0.30629485 0.33569605 0.33275398 0.34028877 0.32057793\n",
            " 0.32009244 0.30372661 0.313349   0.33013234 0.32009729 0.29924555\n",
            " 0.28517609 0.30242065 0.32103429 0.33626407 0.35266873 0.36032489\n",
            " 0.39567818 0.39816874 0.40535882 0.40376642 0.44318811 0.44694094\n",
            " 0.44423191 0.43627475 0.43966831 0.46921516 0.44290652 0.42081679\n",
            " 0.42639991 0.41097593 0.38691511 0.39226519 0.4094612  0.39131849\n",
            " 0.41563389 0.42295006 0.4334206  0.44501698]\n",
            "4 day output [[0.45708022]]\n",
            "5 day input [0.46888017 0.44472225 0.43967317 0.40586859 0.40297508 0.42372486\n",
            " 0.43208013 0.40044568 0.40686869 0.38229325 0.37845789 0.38694424\n",
            " 0.3631213  0.36586432 0.35002282 0.36875783 0.40290711 0.43112857\n",
            " 0.44420763 0.44155201 0.4404451  0.4327501  0.42616687 0.49559176\n",
            " 0.47122508 0.44138209 0.43001194 0.4116896  0.42681743 0.4298663\n",
            " 0.45016944 0.41392285 0.42268592 0.41341308 0.39648895 0.39678995\n",
            " 0.3713649  0.36461661 0.35898494 0.36821408 0.3156308  0.32400548\n",
            " 0.36787909 0.36522347 0.35279981 0.34575052 0.36137354 0.35361543\n",
            " 0.3607327  0.36558759 0.35226092 0.3306324  0.3382837  0.36094146\n",
            " 0.36140753 0.33857014 0.32916622 0.31195565 0.2840449  0.3018769\n",
            " 0.30629485 0.33569605 0.33275398 0.34028877 0.32057793 0.32009244\n",
            " 0.30372661 0.313349   0.33013234 0.32009729 0.29924555 0.28517609\n",
            " 0.30242065 0.32103429 0.33626407 0.35266873 0.36032489 0.39567818\n",
            " 0.39816874 0.40535882 0.40376642 0.44318811 0.44694094 0.44423191\n",
            " 0.43627475 0.43966831 0.46921516 0.44290652 0.42081679 0.42639991\n",
            " 0.41097593 0.38691511 0.39226519 0.4094612  0.39131849 0.41563389\n",
            " 0.42295006 0.4334206  0.44501698 0.45708022]\n",
            "5 day output [[0.4693959]]\n",
            "6 day input [0.44472225 0.43967317 0.40586859 0.40297508 0.42372486 0.43208013\n",
            " 0.40044568 0.40686869 0.38229325 0.37845789 0.38694424 0.3631213\n",
            " 0.36586432 0.35002282 0.36875783 0.40290711 0.43112857 0.44420763\n",
            " 0.44155201 0.4404451  0.4327501  0.42616687 0.49559176 0.47122508\n",
            " 0.44138209 0.43001194 0.4116896  0.42681743 0.4298663  0.45016944\n",
            " 0.41392285 0.42268592 0.41341308 0.39648895 0.39678995 0.3713649\n",
            " 0.36461661 0.35898494 0.36821408 0.3156308  0.32400548 0.36787909\n",
            " 0.36522347 0.35279981 0.34575052 0.36137354 0.35361543 0.3607327\n",
            " 0.36558759 0.35226092 0.3306324  0.3382837  0.36094146 0.36140753\n",
            " 0.33857014 0.32916622 0.31195565 0.2840449  0.3018769  0.30629485\n",
            " 0.33569605 0.33275398 0.34028877 0.32057793 0.32009244 0.30372661\n",
            " 0.313349   0.33013234 0.32009729 0.29924555 0.28517609 0.30242065\n",
            " 0.32103429 0.33626407 0.35266873 0.36032489 0.39567818 0.39816874\n",
            " 0.40535882 0.40376642 0.44318811 0.44694094 0.44423191 0.43627475\n",
            " 0.43966831 0.46921516 0.44290652 0.42081679 0.42639991 0.41097593\n",
            " 0.38691511 0.39226519 0.4094612  0.39131849 0.41563389 0.42295006\n",
            " 0.4334206  0.44501698 0.45708022 0.46939591]\n",
            "6 day output [[0.48188803]]\n",
            "7 day input [0.43967317 0.40586859 0.40297508 0.42372486 0.43208013 0.40044568\n",
            " 0.40686869 0.38229325 0.37845789 0.38694424 0.3631213  0.36586432\n",
            " 0.35002282 0.36875783 0.40290711 0.43112857 0.44420763 0.44155201\n",
            " 0.4404451  0.4327501  0.42616687 0.49559176 0.47122508 0.44138209\n",
            " 0.43001194 0.4116896  0.42681743 0.4298663  0.45016944 0.41392285\n",
            " 0.42268592 0.41341308 0.39648895 0.39678995 0.3713649  0.36461661\n",
            " 0.35898494 0.36821408 0.3156308  0.32400548 0.36787909 0.36522347\n",
            " 0.35279981 0.34575052 0.36137354 0.35361543 0.3607327  0.36558759\n",
            " 0.35226092 0.3306324  0.3382837  0.36094146 0.36140753 0.33857014\n",
            " 0.32916622 0.31195565 0.2840449  0.3018769  0.30629485 0.33569605\n",
            " 0.33275398 0.34028877 0.32057793 0.32009244 0.30372661 0.313349\n",
            " 0.33013234 0.32009729 0.29924555 0.28517609 0.30242065 0.32103429\n",
            " 0.33626407 0.35266873 0.36032489 0.39567818 0.39816874 0.40535882\n",
            " 0.40376642 0.44318811 0.44694094 0.44423191 0.43627475 0.43966831\n",
            " 0.46921516 0.44290652 0.42081679 0.42639991 0.41097593 0.38691511\n",
            " 0.39226519 0.4094612  0.39131849 0.41563389 0.42295006 0.4334206\n",
            " 0.44501698 0.45708022 0.46939591 0.48188803]\n",
            "7 day output [[0.49455127]]\n",
            "8 day input [0.40586859 0.40297508 0.42372486 0.43208013 0.40044568 0.40686869\n",
            " 0.38229325 0.37845789 0.38694424 0.3631213  0.36586432 0.35002282\n",
            " 0.36875783 0.40290711 0.43112857 0.44420763 0.44155201 0.4404451\n",
            " 0.4327501  0.42616687 0.49559176 0.47122508 0.44138209 0.43001194\n",
            " 0.4116896  0.42681743 0.4298663  0.45016944 0.41392285 0.42268592\n",
            " 0.41341308 0.39648895 0.39678995 0.3713649  0.36461661 0.35898494\n",
            " 0.36821408 0.3156308  0.32400548 0.36787909 0.36522347 0.35279981\n",
            " 0.34575052 0.36137354 0.35361543 0.3607327  0.36558759 0.35226092\n",
            " 0.3306324  0.3382837  0.36094146 0.36140753 0.33857014 0.32916622\n",
            " 0.31195565 0.2840449  0.3018769  0.30629485 0.33569605 0.33275398\n",
            " 0.34028877 0.32057793 0.32009244 0.30372661 0.313349   0.33013234\n",
            " 0.32009729 0.29924555 0.28517609 0.30242065 0.32103429 0.33626407\n",
            " 0.35266873 0.36032489 0.39567818 0.39816874 0.40535882 0.40376642\n",
            " 0.44318811 0.44694094 0.44423191 0.43627475 0.43966831 0.46921516\n",
            " 0.44290652 0.42081679 0.42639991 0.41097593 0.38691511 0.39226519\n",
            " 0.4094612  0.39131849 0.41563389 0.42295006 0.4334206  0.44501698\n",
            " 0.45708022 0.46939591 0.48188803 0.49455127]\n",
            "8 day output [[0.50743246]]\n",
            "9 day input [0.40297508 0.42372486 0.43208013 0.40044568 0.40686869 0.38229325\n",
            " 0.37845789 0.38694424 0.3631213  0.36586432 0.35002282 0.36875783\n",
            " 0.40290711 0.43112857 0.44420763 0.44155201 0.4404451  0.4327501\n",
            " 0.42616687 0.49559176 0.47122508 0.44138209 0.43001194 0.4116896\n",
            " 0.42681743 0.4298663  0.45016944 0.41392285 0.42268592 0.41341308\n",
            " 0.39648895 0.39678995 0.3713649  0.36461661 0.35898494 0.36821408\n",
            " 0.3156308  0.32400548 0.36787909 0.36522347 0.35279981 0.34575052\n",
            " 0.36137354 0.35361543 0.3607327  0.36558759 0.35226092 0.3306324\n",
            " 0.3382837  0.36094146 0.36140753 0.33857014 0.32916622 0.31195565\n",
            " 0.2840449  0.3018769  0.30629485 0.33569605 0.33275398 0.34028877\n",
            " 0.32057793 0.32009244 0.30372661 0.313349   0.33013234 0.32009729\n",
            " 0.29924555 0.28517609 0.30242065 0.32103429 0.33626407 0.35266873\n",
            " 0.36032489 0.39567818 0.39816874 0.40535882 0.40376642 0.44318811\n",
            " 0.44694094 0.44423191 0.43627475 0.43966831 0.46921516 0.44290652\n",
            " 0.42081679 0.42639991 0.41097593 0.38691511 0.39226519 0.4094612\n",
            " 0.39131849 0.41563389 0.42295006 0.4334206  0.44501698 0.45708022\n",
            " 0.46939591 0.48188803 0.49455127 0.50743246]\n",
            "9 day output [[0.52061796]]\n",
            "10 day input [0.42372486 0.43208013 0.40044568 0.40686869 0.38229325 0.37845789\n",
            " 0.38694424 0.3631213  0.36586432 0.35002282 0.36875783 0.40290711\n",
            " 0.43112857 0.44420763 0.44155201 0.4404451  0.4327501  0.42616687\n",
            " 0.49559176 0.47122508 0.44138209 0.43001194 0.4116896  0.42681743\n",
            " 0.4298663  0.45016944 0.41392285 0.42268592 0.41341308 0.39648895\n",
            " 0.39678995 0.3713649  0.36461661 0.35898494 0.36821408 0.3156308\n",
            " 0.32400548 0.36787909 0.36522347 0.35279981 0.34575052 0.36137354\n",
            " 0.35361543 0.3607327  0.36558759 0.35226092 0.3306324  0.3382837\n",
            " 0.36094146 0.36140753 0.33857014 0.32916622 0.31195565 0.2840449\n",
            " 0.3018769  0.30629485 0.33569605 0.33275398 0.34028877 0.32057793\n",
            " 0.32009244 0.30372661 0.313349   0.33013234 0.32009729 0.29924555\n",
            " 0.28517609 0.30242065 0.32103429 0.33626407 0.35266873 0.36032489\n",
            " 0.39567818 0.39816874 0.40535882 0.40376642 0.44318811 0.44694094\n",
            " 0.44423191 0.43627475 0.43966831 0.46921516 0.44290652 0.42081679\n",
            " 0.42639991 0.41097593 0.38691511 0.39226519 0.4094612  0.39131849\n",
            " 0.41563389 0.42295006 0.4334206  0.44501698 0.45708022 0.46939591\n",
            " 0.48188803 0.49455127 0.50743246 0.52061796]\n",
            "10 day output [[0.5342204]]\n",
            "11 day input [0.43208013 0.40044568 0.40686869 0.38229325 0.37845789 0.38694424\n",
            " 0.3631213  0.36586432 0.35002282 0.36875783 0.40290711 0.43112857\n",
            " 0.44420763 0.44155201 0.4404451  0.4327501  0.42616687 0.49559176\n",
            " 0.47122508 0.44138209 0.43001194 0.4116896  0.42681743 0.4298663\n",
            " 0.45016944 0.41392285 0.42268592 0.41341308 0.39648895 0.39678995\n",
            " 0.3713649  0.36461661 0.35898494 0.36821408 0.3156308  0.32400548\n",
            " 0.36787909 0.36522347 0.35279981 0.34575052 0.36137354 0.35361543\n",
            " 0.3607327  0.36558759 0.35226092 0.3306324  0.3382837  0.36094146\n",
            " 0.36140753 0.33857014 0.32916622 0.31195565 0.2840449  0.3018769\n",
            " 0.30629485 0.33569605 0.33275398 0.34028877 0.32057793 0.32009244\n",
            " 0.30372661 0.313349   0.33013234 0.32009729 0.29924555 0.28517609\n",
            " 0.30242065 0.32103429 0.33626407 0.35266873 0.36032489 0.39567818\n",
            " 0.39816874 0.40535882 0.40376642 0.44318811 0.44694094 0.44423191\n",
            " 0.43627475 0.43966831 0.46921516 0.44290652 0.42081679 0.42639991\n",
            " 0.41097593 0.38691511 0.39226519 0.4094612  0.39131849 0.41563389\n",
            " 0.42295006 0.4334206  0.44501698 0.45708022 0.46939591 0.48188803\n",
            " 0.49455127 0.50743246 0.52061796 0.5342204 ]\n",
            "11 day output [[0.54836804]]\n",
            "12 day input [0.40044568 0.40686869 0.38229325 0.37845789 0.38694424 0.3631213\n",
            " 0.36586432 0.35002282 0.36875783 0.40290711 0.43112857 0.44420763\n",
            " 0.44155201 0.4404451  0.4327501  0.42616687 0.49559176 0.47122508\n",
            " 0.44138209 0.43001194 0.4116896  0.42681743 0.4298663  0.45016944\n",
            " 0.41392285 0.42268592 0.41341308 0.39648895 0.39678995 0.3713649\n",
            " 0.36461661 0.35898494 0.36821408 0.3156308  0.32400548 0.36787909\n",
            " 0.36522347 0.35279981 0.34575052 0.36137354 0.35361543 0.3607327\n",
            " 0.36558759 0.35226092 0.3306324  0.3382837  0.36094146 0.36140753\n",
            " 0.33857014 0.32916622 0.31195565 0.2840449  0.3018769  0.30629485\n",
            " 0.33569605 0.33275398 0.34028877 0.32057793 0.32009244 0.30372661\n",
            " 0.313349   0.33013234 0.32009729 0.29924555 0.28517609 0.30242065\n",
            " 0.32103429 0.33626407 0.35266873 0.36032489 0.39567818 0.39816874\n",
            " 0.40535882 0.40376642 0.44318811 0.44694094 0.44423191 0.43627475\n",
            " 0.43966831 0.46921516 0.44290652 0.42081679 0.42639991 0.41097593\n",
            " 0.38691511 0.39226519 0.4094612  0.39131849 0.41563389 0.42295006\n",
            " 0.4334206  0.44501698 0.45708022 0.46939591 0.48188803 0.49455127\n",
            " 0.50743246 0.52061796 0.5342204  0.54836804]\n",
            "12 day output [[0.5631943]]\n",
            "13 day input [0.40686869 0.38229325 0.37845789 0.38694424 0.3631213  0.36586432\n",
            " 0.35002282 0.36875783 0.40290711 0.43112857 0.44420763 0.44155201\n",
            " 0.4404451  0.4327501  0.42616687 0.49559176 0.47122508 0.44138209\n",
            " 0.43001194 0.4116896  0.42681743 0.4298663  0.45016944 0.41392285\n",
            " 0.42268592 0.41341308 0.39648895 0.39678995 0.3713649  0.36461661\n",
            " 0.35898494 0.36821408 0.3156308  0.32400548 0.36787909 0.36522347\n",
            " 0.35279981 0.34575052 0.36137354 0.35361543 0.3607327  0.36558759\n",
            " 0.35226092 0.3306324  0.3382837  0.36094146 0.36140753 0.33857014\n",
            " 0.32916622 0.31195565 0.2840449  0.3018769  0.30629485 0.33569605\n",
            " 0.33275398 0.34028877 0.32057793 0.32009244 0.30372661 0.313349\n",
            " 0.33013234 0.32009729 0.29924555 0.28517609 0.30242065 0.32103429\n",
            " 0.33626407 0.35266873 0.36032489 0.39567818 0.39816874 0.40535882\n",
            " 0.40376642 0.44318811 0.44694094 0.44423191 0.43627475 0.43966831\n",
            " 0.46921516 0.44290652 0.42081679 0.42639991 0.41097593 0.38691511\n",
            " 0.39226519 0.4094612  0.39131849 0.41563389 0.42295006 0.4334206\n",
            " 0.44501698 0.45708022 0.46939591 0.48188803 0.49455127 0.50743246\n",
            " 0.52061796 0.5342204  0.54836804 0.56319427]\n",
            "13 day output [[0.5788326]]\n",
            "14 day input [0.38229325 0.37845789 0.38694424 0.3631213  0.36586432 0.35002282\n",
            " 0.36875783 0.40290711 0.43112857 0.44420763 0.44155201 0.4404451\n",
            " 0.4327501  0.42616687 0.49559176 0.47122508 0.44138209 0.43001194\n",
            " 0.4116896  0.42681743 0.4298663  0.45016944 0.41392285 0.42268592\n",
            " 0.41341308 0.39648895 0.39678995 0.3713649  0.36461661 0.35898494\n",
            " 0.36821408 0.3156308  0.32400548 0.36787909 0.36522347 0.35279981\n",
            " 0.34575052 0.36137354 0.35361543 0.3607327  0.36558759 0.35226092\n",
            " 0.3306324  0.3382837  0.36094146 0.36140753 0.33857014 0.32916622\n",
            " 0.31195565 0.2840449  0.3018769  0.30629485 0.33569605 0.33275398\n",
            " 0.34028877 0.32057793 0.32009244 0.30372661 0.313349   0.33013234\n",
            " 0.32009729 0.29924555 0.28517609 0.30242065 0.32103429 0.33626407\n",
            " 0.35266873 0.36032489 0.39567818 0.39816874 0.40535882 0.40376642\n",
            " 0.44318811 0.44694094 0.44423191 0.43627475 0.43966831 0.46921516\n",
            " 0.44290652 0.42081679 0.42639991 0.41097593 0.38691511 0.39226519\n",
            " 0.4094612  0.39131849 0.41563389 0.42295006 0.4334206  0.44501698\n",
            " 0.45708022 0.46939591 0.48188803 0.49455127 0.50743246 0.52061796\n",
            " 0.5342204  0.54836804 0.56319427 0.57883263]\n",
            "14 day output [[0.59541273]]\n",
            "15 day input [0.37845789 0.38694424 0.3631213  0.36586432 0.35002282 0.36875783\n",
            " 0.40290711 0.43112857 0.44420763 0.44155201 0.4404451  0.4327501\n",
            " 0.42616687 0.49559176 0.47122508 0.44138209 0.43001194 0.4116896\n",
            " 0.42681743 0.4298663  0.45016944 0.41392285 0.42268592 0.41341308\n",
            " 0.39648895 0.39678995 0.3713649  0.36461661 0.35898494 0.36821408\n",
            " 0.3156308  0.32400548 0.36787909 0.36522347 0.35279981 0.34575052\n",
            " 0.36137354 0.35361543 0.3607327  0.36558759 0.35226092 0.3306324\n",
            " 0.3382837  0.36094146 0.36140753 0.33857014 0.32916622 0.31195565\n",
            " 0.2840449  0.3018769  0.30629485 0.33569605 0.33275398 0.34028877\n",
            " 0.32057793 0.32009244 0.30372661 0.313349   0.33013234 0.32009729\n",
            " 0.29924555 0.28517609 0.30242065 0.32103429 0.33626407 0.35266873\n",
            " 0.36032489 0.39567818 0.39816874 0.40535882 0.40376642 0.44318811\n",
            " 0.44694094 0.44423191 0.43627475 0.43966831 0.46921516 0.44290652\n",
            " 0.42081679 0.42639991 0.41097593 0.38691511 0.39226519 0.4094612\n",
            " 0.39131849 0.41563389 0.42295006 0.4334206  0.44501698 0.45708022\n",
            " 0.46939591 0.48188803 0.49455127 0.50743246 0.52061796 0.5342204\n",
            " 0.54836804 0.56319427 0.57883263 0.59541273]\n",
            "15 day output [[0.6130581]]\n",
            "16 day input [0.38694424 0.3631213  0.36586432 0.35002282 0.36875783 0.40290711\n",
            " 0.43112857 0.44420763 0.44155201 0.4404451  0.4327501  0.42616687\n",
            " 0.49559176 0.47122508 0.44138209 0.43001194 0.4116896  0.42681743\n",
            " 0.4298663  0.45016944 0.41392285 0.42268592 0.41341308 0.39648895\n",
            " 0.39678995 0.3713649  0.36461661 0.35898494 0.36821408 0.3156308\n",
            " 0.32400548 0.36787909 0.36522347 0.35279981 0.34575052 0.36137354\n",
            " 0.35361543 0.3607327  0.36558759 0.35226092 0.3306324  0.3382837\n",
            " 0.36094146 0.36140753 0.33857014 0.32916622 0.31195565 0.2840449\n",
            " 0.3018769  0.30629485 0.33569605 0.33275398 0.34028877 0.32057793\n",
            " 0.32009244 0.30372661 0.313349   0.33013234 0.32009729 0.29924555\n",
            " 0.28517609 0.30242065 0.32103429 0.33626407 0.35266873 0.36032489\n",
            " 0.39567818 0.39816874 0.40535882 0.40376642 0.44318811 0.44694094\n",
            " 0.44423191 0.43627475 0.43966831 0.46921516 0.44290652 0.42081679\n",
            " 0.42639991 0.41097593 0.38691511 0.39226519 0.4094612  0.39131849\n",
            " 0.41563389 0.42295006 0.4334206  0.44501698 0.45708022 0.46939591\n",
            " 0.48188803 0.49455127 0.50743246 0.52061796 0.5342204  0.54836804\n",
            " 0.56319427 0.57883263 0.59541273 0.61305809]\n",
            "16 day output [[0.6318871]]\n",
            "17 day input [0.3631213  0.36586432 0.35002282 0.36875783 0.40290711 0.43112857\n",
            " 0.44420763 0.44155201 0.4404451  0.4327501  0.42616687 0.49559176\n",
            " 0.47122508 0.44138209 0.43001194 0.4116896  0.42681743 0.4298663\n",
            " 0.45016944 0.41392285 0.42268592 0.41341308 0.39648895 0.39678995\n",
            " 0.3713649  0.36461661 0.35898494 0.36821408 0.3156308  0.32400548\n",
            " 0.36787909 0.36522347 0.35279981 0.34575052 0.36137354 0.35361543\n",
            " 0.3607327  0.36558759 0.35226092 0.3306324  0.3382837  0.36094146\n",
            " 0.36140753 0.33857014 0.32916622 0.31195565 0.2840449  0.3018769\n",
            " 0.30629485 0.33569605 0.33275398 0.34028877 0.32057793 0.32009244\n",
            " 0.30372661 0.313349   0.33013234 0.32009729 0.29924555 0.28517609\n",
            " 0.30242065 0.32103429 0.33626407 0.35266873 0.36032489 0.39567818\n",
            " 0.39816874 0.40535882 0.40376642 0.44318811 0.44694094 0.44423191\n",
            " 0.43627475 0.43966831 0.46921516 0.44290652 0.42081679 0.42639991\n",
            " 0.41097593 0.38691511 0.39226519 0.4094612  0.39131849 0.41563389\n",
            " 0.42295006 0.4334206  0.44501698 0.45708022 0.46939591 0.48188803\n",
            " 0.49455127 0.50743246 0.52061796 0.5342204  0.54836804 0.56319427\n",
            " 0.57883263 0.59541273 0.61305809 0.63188708]\n",
            "17 day output [[0.65201306]]\n",
            "18 day input [0.36586432 0.35002282 0.36875783 0.40290711 0.43112857 0.44420763\n",
            " 0.44155201 0.4404451  0.4327501  0.42616687 0.49559176 0.47122508\n",
            " 0.44138209 0.43001194 0.4116896  0.42681743 0.4298663  0.45016944\n",
            " 0.41392285 0.42268592 0.41341308 0.39648895 0.39678995 0.3713649\n",
            " 0.36461661 0.35898494 0.36821408 0.3156308  0.32400548 0.36787909\n",
            " 0.36522347 0.35279981 0.34575052 0.36137354 0.35361543 0.3607327\n",
            " 0.36558759 0.35226092 0.3306324  0.3382837  0.36094146 0.36140753\n",
            " 0.33857014 0.32916622 0.31195565 0.2840449  0.3018769  0.30629485\n",
            " 0.33569605 0.33275398 0.34028877 0.32057793 0.32009244 0.30372661\n",
            " 0.313349   0.33013234 0.32009729 0.29924555 0.28517609 0.30242065\n",
            " 0.32103429 0.33626407 0.35266873 0.36032489 0.39567818 0.39816874\n",
            " 0.40535882 0.40376642 0.44318811 0.44694094 0.44423191 0.43627475\n",
            " 0.43966831 0.46921516 0.44290652 0.42081679 0.42639991 0.41097593\n",
            " 0.38691511 0.39226519 0.4094612  0.39131849 0.41563389 0.42295006\n",
            " 0.4334206  0.44501698 0.45708022 0.46939591 0.48188803 0.49455127\n",
            " 0.50743246 0.52061796 0.5342204  0.54836804 0.56319427 0.57883263\n",
            " 0.59541273 0.61305809 0.63188708 0.65201306]\n",
            "18 day output [[0.6735488]]\n",
            "19 day input [0.35002282 0.36875783 0.40290711 0.43112857 0.44420763 0.44155201\n",
            " 0.4404451  0.4327501  0.42616687 0.49559176 0.47122508 0.44138209\n",
            " 0.43001194 0.4116896  0.42681743 0.4298663  0.45016944 0.41392285\n",
            " 0.42268592 0.41341308 0.39648895 0.39678995 0.3713649  0.36461661\n",
            " 0.35898494 0.36821408 0.3156308  0.32400548 0.36787909 0.36522347\n",
            " 0.35279981 0.34575052 0.36137354 0.35361543 0.3607327  0.36558759\n",
            " 0.35226092 0.3306324  0.3382837  0.36094146 0.36140753 0.33857014\n",
            " 0.32916622 0.31195565 0.2840449  0.3018769  0.30629485 0.33569605\n",
            " 0.33275398 0.34028877 0.32057793 0.32009244 0.30372661 0.313349\n",
            " 0.33013234 0.32009729 0.29924555 0.28517609 0.30242065 0.32103429\n",
            " 0.33626407 0.35266873 0.36032489 0.39567818 0.39816874 0.40535882\n",
            " 0.40376642 0.44318811 0.44694094 0.44423191 0.43627475 0.43966831\n",
            " 0.46921516 0.44290652 0.42081679 0.42639991 0.41097593 0.38691511\n",
            " 0.39226519 0.4094612  0.39131849 0.41563389 0.42295006 0.4334206\n",
            " 0.44501698 0.45708022 0.46939591 0.48188803 0.49455127 0.50743246\n",
            " 0.52061796 0.5342204  0.54836804 0.56319427 0.57883263 0.59541273\n",
            " 0.61305809 0.63188708 0.65201306 0.67354882]\n",
            "19 day output [[0.69660735]]\n",
            "20 day input [0.36875783 0.40290711 0.43112857 0.44420763 0.44155201 0.4404451\n",
            " 0.4327501  0.42616687 0.49559176 0.47122508 0.44138209 0.43001194\n",
            " 0.4116896  0.42681743 0.4298663  0.45016944 0.41392285 0.42268592\n",
            " 0.41341308 0.39648895 0.39678995 0.3713649  0.36461661 0.35898494\n",
            " 0.36821408 0.3156308  0.32400548 0.36787909 0.36522347 0.35279981\n",
            " 0.34575052 0.36137354 0.35361543 0.3607327  0.36558759 0.35226092\n",
            " 0.3306324  0.3382837  0.36094146 0.36140753 0.33857014 0.32916622\n",
            " 0.31195565 0.2840449  0.3018769  0.30629485 0.33569605 0.33275398\n",
            " 0.34028877 0.32057793 0.32009244 0.30372661 0.313349   0.33013234\n",
            " 0.32009729 0.29924555 0.28517609 0.30242065 0.32103429 0.33626407\n",
            " 0.35266873 0.36032489 0.39567818 0.39816874 0.40535882 0.40376642\n",
            " 0.44318811 0.44694094 0.44423191 0.43627475 0.43966831 0.46921516\n",
            " 0.44290652 0.42081679 0.42639991 0.41097593 0.38691511 0.39226519\n",
            " 0.4094612  0.39131849 0.41563389 0.42295006 0.4334206  0.44501698\n",
            " 0.45708022 0.46939591 0.48188803 0.49455127 0.50743246 0.52061796\n",
            " 0.5342204  0.54836804 0.56319427 0.57883263 0.59541273 0.61305809\n",
            " 0.63188708 0.65201306 0.67354882 0.69660735]\n",
            "20 day output [[0.7213051]]\n",
            "21 day input [0.40290711 0.43112857 0.44420763 0.44155201 0.4404451  0.4327501\n",
            " 0.42616687 0.49559176 0.47122508 0.44138209 0.43001194 0.4116896\n",
            " 0.42681743 0.4298663  0.45016944 0.41392285 0.42268592 0.41341308\n",
            " 0.39648895 0.39678995 0.3713649  0.36461661 0.35898494 0.36821408\n",
            " 0.3156308  0.32400548 0.36787909 0.36522347 0.35279981 0.34575052\n",
            " 0.36137354 0.35361543 0.3607327  0.36558759 0.35226092 0.3306324\n",
            " 0.3382837  0.36094146 0.36140753 0.33857014 0.32916622 0.31195565\n",
            " 0.2840449  0.3018769  0.30629485 0.33569605 0.33275398 0.34028877\n",
            " 0.32057793 0.32009244 0.30372661 0.313349   0.33013234 0.32009729\n",
            " 0.29924555 0.28517609 0.30242065 0.32103429 0.33626407 0.35266873\n",
            " 0.36032489 0.39567818 0.39816874 0.40535882 0.40376642 0.44318811\n",
            " 0.44694094 0.44423191 0.43627475 0.43966831 0.46921516 0.44290652\n",
            " 0.42081679 0.42639991 0.41097593 0.38691511 0.39226519 0.4094612\n",
            " 0.39131849 0.41563389 0.42295006 0.4334206  0.44501698 0.45708022\n",
            " 0.46939591 0.48188803 0.49455127 0.50743246 0.52061796 0.5342204\n",
            " 0.54836804 0.56319427 0.57883263 0.59541273 0.61305809 0.63188708\n",
            " 0.65201306 0.67354882 0.69660735 0.72130507]\n",
            "21 day output [[0.7477646]]\n",
            "22 day input [0.43112857 0.44420763 0.44155201 0.4404451  0.4327501  0.42616687\n",
            " 0.49559176 0.47122508 0.44138209 0.43001194 0.4116896  0.42681743\n",
            " 0.4298663  0.45016944 0.41392285 0.42268592 0.41341308 0.39648895\n",
            " 0.39678995 0.3713649  0.36461661 0.35898494 0.36821408 0.3156308\n",
            " 0.32400548 0.36787909 0.36522347 0.35279981 0.34575052 0.36137354\n",
            " 0.35361543 0.3607327  0.36558759 0.35226092 0.3306324  0.3382837\n",
            " 0.36094146 0.36140753 0.33857014 0.32916622 0.31195565 0.2840449\n",
            " 0.3018769  0.30629485 0.33569605 0.33275398 0.34028877 0.32057793\n",
            " 0.32009244 0.30372661 0.313349   0.33013234 0.32009729 0.29924555\n",
            " 0.28517609 0.30242065 0.32103429 0.33626407 0.35266873 0.36032489\n",
            " 0.39567818 0.39816874 0.40535882 0.40376642 0.44318811 0.44694094\n",
            " 0.44423191 0.43627475 0.43966831 0.46921516 0.44290652 0.42081679\n",
            " 0.42639991 0.41097593 0.38691511 0.39226519 0.4094612  0.39131849\n",
            " 0.41563389 0.42295006 0.4334206  0.44501698 0.45708022 0.46939591\n",
            " 0.48188803 0.49455127 0.50743246 0.52061796 0.5342204  0.54836804\n",
            " 0.56319427 0.57883263 0.59541273 0.61305809 0.63188708 0.65201306\n",
            " 0.67354882 0.69660735 0.72130507 0.74776459]\n",
            "22 day output [[0.7761156]]\n",
            "23 day input [0.44420763 0.44155201 0.4404451  0.4327501  0.42616687 0.49559176\n",
            " 0.47122508 0.44138209 0.43001194 0.4116896  0.42681743 0.4298663\n",
            " 0.45016944 0.41392285 0.42268592 0.41341308 0.39648895 0.39678995\n",
            " 0.3713649  0.36461661 0.35898494 0.36821408 0.3156308  0.32400548\n",
            " 0.36787909 0.36522347 0.35279981 0.34575052 0.36137354 0.35361543\n",
            " 0.3607327  0.36558759 0.35226092 0.3306324  0.3382837  0.36094146\n",
            " 0.36140753 0.33857014 0.32916622 0.31195565 0.2840449  0.3018769\n",
            " 0.30629485 0.33569605 0.33275398 0.34028877 0.32057793 0.32009244\n",
            " 0.30372661 0.313349   0.33013234 0.32009729 0.29924555 0.28517609\n",
            " 0.30242065 0.32103429 0.33626407 0.35266873 0.36032489 0.39567818\n",
            " 0.39816874 0.40535882 0.40376642 0.44318811 0.44694094 0.44423191\n",
            " 0.43627475 0.43966831 0.46921516 0.44290652 0.42081679 0.42639991\n",
            " 0.41097593 0.38691511 0.39226519 0.4094612  0.39131849 0.41563389\n",
            " 0.42295006 0.4334206  0.44501698 0.45708022 0.46939591 0.48188803\n",
            " 0.49455127 0.50743246 0.52061796 0.5342204  0.54836804 0.56319427\n",
            " 0.57883263 0.59541273 0.61305809 0.63188708 0.65201306 0.67354882\n",
            " 0.69660735 0.72130507 0.74776459 0.7761156 ]\n",
            "23 day output [[0.80649537]]\n",
            "24 day input [0.44155201 0.4404451  0.4327501  0.42616687 0.49559176 0.47122508\n",
            " 0.44138209 0.43001194 0.4116896  0.42681743 0.4298663  0.45016944\n",
            " 0.41392285 0.42268592 0.41341308 0.39648895 0.39678995 0.3713649\n",
            " 0.36461661 0.35898494 0.36821408 0.3156308  0.32400548 0.36787909\n",
            " 0.36522347 0.35279981 0.34575052 0.36137354 0.35361543 0.3607327\n",
            " 0.36558759 0.35226092 0.3306324  0.3382837  0.36094146 0.36140753\n",
            " 0.33857014 0.32916622 0.31195565 0.2840449  0.3018769  0.30629485\n",
            " 0.33569605 0.33275398 0.34028877 0.32057793 0.32009244 0.30372661\n",
            " 0.313349   0.33013234 0.32009729 0.29924555 0.28517609 0.30242065\n",
            " 0.32103429 0.33626407 0.35266873 0.36032489 0.39567818 0.39816874\n",
            " 0.40535882 0.40376642 0.44318811 0.44694094 0.44423191 0.43627475\n",
            " 0.43966831 0.46921516 0.44290652 0.42081679 0.42639991 0.41097593\n",
            " 0.38691511 0.39226519 0.4094612  0.39131849 0.41563389 0.42295006\n",
            " 0.4334206  0.44501698 0.45708022 0.46939591 0.48188803 0.49455127\n",
            " 0.50743246 0.52061796 0.5342204  0.54836804 0.56319427 0.57883263\n",
            " 0.59541273 0.61305809 0.63188708 0.65201306 0.67354882 0.69660735\n",
            " 0.72130507 0.74776459 0.7761156  0.80649537]\n",
            "24 day output [[0.83904815]]\n",
            "25 day input [0.4404451  0.4327501  0.42616687 0.49559176 0.47122508 0.44138209\n",
            " 0.43001194 0.4116896  0.42681743 0.4298663  0.45016944 0.41392285\n",
            " 0.42268592 0.41341308 0.39648895 0.39678995 0.3713649  0.36461661\n",
            " 0.35898494 0.36821408 0.3156308  0.32400548 0.36787909 0.36522347\n",
            " 0.35279981 0.34575052 0.36137354 0.35361543 0.3607327  0.36558759\n",
            " 0.35226092 0.3306324  0.3382837  0.36094146 0.36140753 0.33857014\n",
            " 0.32916622 0.31195565 0.2840449  0.3018769  0.30629485 0.33569605\n",
            " 0.33275398 0.34028877 0.32057793 0.32009244 0.30372661 0.313349\n",
            " 0.33013234 0.32009729 0.29924555 0.28517609 0.30242065 0.32103429\n",
            " 0.33626407 0.35266873 0.36032489 0.39567818 0.39816874 0.40535882\n",
            " 0.40376642 0.44318811 0.44694094 0.44423191 0.43627475 0.43966831\n",
            " 0.46921516 0.44290652 0.42081679 0.42639991 0.41097593 0.38691511\n",
            " 0.39226519 0.4094612  0.39131849 0.41563389 0.42295006 0.4334206\n",
            " 0.44501698 0.45708022 0.46939591 0.48188803 0.49455127 0.50743246\n",
            " 0.52061796 0.5342204  0.54836804 0.56319427 0.57883263 0.59541273\n",
            " 0.61305809 0.63188708 0.65201306 0.67354882 0.69660735 0.72130507\n",
            " 0.74776459 0.7761156  0.80649537 0.83904815]\n",
            "25 day output [[0.873923]]\n",
            "26 day input [0.4327501  0.42616687 0.49559176 0.47122508 0.44138209 0.43001194\n",
            " 0.4116896  0.42681743 0.4298663  0.45016944 0.41392285 0.42268592\n",
            " 0.41341308 0.39648895 0.39678995 0.3713649  0.36461661 0.35898494\n",
            " 0.36821408 0.3156308  0.32400548 0.36787909 0.36522347 0.35279981\n",
            " 0.34575052 0.36137354 0.35361543 0.3607327  0.36558759 0.35226092\n",
            " 0.3306324  0.3382837  0.36094146 0.36140753 0.33857014 0.32916622\n",
            " 0.31195565 0.2840449  0.3018769  0.30629485 0.33569605 0.33275398\n",
            " 0.34028877 0.32057793 0.32009244 0.30372661 0.313349   0.33013234\n",
            " 0.32009729 0.29924555 0.28517609 0.30242065 0.32103429 0.33626407\n",
            " 0.35266873 0.36032489 0.39567818 0.39816874 0.40535882 0.40376642\n",
            " 0.44318811 0.44694094 0.44423191 0.43627475 0.43966831 0.46921516\n",
            " 0.44290652 0.42081679 0.42639991 0.41097593 0.38691511 0.39226519\n",
            " 0.4094612  0.39131849 0.41563389 0.42295006 0.4334206  0.44501698\n",
            " 0.45708022 0.46939591 0.48188803 0.49455127 0.50743246 0.52061796\n",
            " 0.5342204  0.54836804 0.56319427 0.57883263 0.59541273 0.61305809\n",
            " 0.63188708 0.65201306 0.67354882 0.69660735 0.72130507 0.74776459\n",
            " 0.7761156  0.80649537 0.83904815 0.873923  ]\n",
            "26 day output [[0.9112691]]\n",
            "27 day input [0.42616687 0.49559176 0.47122508 0.44138209 0.43001194 0.4116896\n",
            " 0.42681743 0.4298663  0.45016944 0.41392285 0.42268592 0.41341308\n",
            " 0.39648895 0.39678995 0.3713649  0.36461661 0.35898494 0.36821408\n",
            " 0.3156308  0.32400548 0.36787909 0.36522347 0.35279981 0.34575052\n",
            " 0.36137354 0.35361543 0.3607327  0.36558759 0.35226092 0.3306324\n",
            " 0.3382837  0.36094146 0.36140753 0.33857014 0.32916622 0.31195565\n",
            " 0.2840449  0.3018769  0.30629485 0.33569605 0.33275398 0.34028877\n",
            " 0.32057793 0.32009244 0.30372661 0.313349   0.33013234 0.32009729\n",
            " 0.29924555 0.28517609 0.30242065 0.32103429 0.33626407 0.35266873\n",
            " 0.36032489 0.39567818 0.39816874 0.40535882 0.40376642 0.44318811\n",
            " 0.44694094 0.44423191 0.43627475 0.43966831 0.46921516 0.44290652\n",
            " 0.42081679 0.42639991 0.41097593 0.38691511 0.39226519 0.4094612\n",
            " 0.39131849 0.41563389 0.42295006 0.4334206  0.44501698 0.45708022\n",
            " 0.46939591 0.48188803 0.49455127 0.50743246 0.52061796 0.5342204\n",
            " 0.54836804 0.56319427 0.57883263 0.59541273 0.61305809 0.63188708\n",
            " 0.65201306 0.67354882 0.69660735 0.72130507 0.74776459 0.7761156\n",
            " 0.80649537 0.83904815 0.873923   0.91126913]\n",
            "27 day output [[0.9512305]]\n",
            "28 day input [0.49559176 0.47122508 0.44138209 0.43001194 0.4116896  0.42681743\n",
            " 0.4298663  0.45016944 0.41392285 0.42268592 0.41341308 0.39648895\n",
            " 0.39678995 0.3713649  0.36461661 0.35898494 0.36821408 0.3156308\n",
            " 0.32400548 0.36787909 0.36522347 0.35279981 0.34575052 0.36137354\n",
            " 0.35361543 0.3607327  0.36558759 0.35226092 0.3306324  0.3382837\n",
            " 0.36094146 0.36140753 0.33857014 0.32916622 0.31195565 0.2840449\n",
            " 0.3018769  0.30629485 0.33569605 0.33275398 0.34028877 0.32057793\n",
            " 0.32009244 0.30372661 0.313349   0.33013234 0.32009729 0.29924555\n",
            " 0.28517609 0.30242065 0.32103429 0.33626407 0.35266873 0.36032489\n",
            " 0.39567818 0.39816874 0.40535882 0.40376642 0.44318811 0.44694094\n",
            " 0.44423191 0.43627475 0.43966831 0.46921516 0.44290652 0.42081679\n",
            " 0.42639991 0.41097593 0.38691511 0.39226519 0.4094612  0.39131849\n",
            " 0.41563389 0.42295006 0.4334206  0.44501698 0.45708022 0.46939591\n",
            " 0.48188803 0.49455127 0.50743246 0.52061796 0.5342204  0.54836804\n",
            " 0.56319427 0.57883263 0.59541273 0.61305809 0.63188708 0.65201306\n",
            " 0.67354882 0.69660735 0.72130507 0.74776459 0.7761156  0.80649537\n",
            " 0.83904815 0.873923   0.91126913 0.95123053]\n",
            "28 day output [[0.9939367]]\n",
            "29 day input [0.47122508 0.44138209 0.43001194 0.4116896  0.42681743 0.4298663\n",
            " 0.45016944 0.41392285 0.42268592 0.41341308 0.39648895 0.39678995\n",
            " 0.3713649  0.36461661 0.35898494 0.36821408 0.3156308  0.32400548\n",
            " 0.36787909 0.36522347 0.35279981 0.34575052 0.36137354 0.35361543\n",
            " 0.3607327  0.36558759 0.35226092 0.3306324  0.3382837  0.36094146\n",
            " 0.36140753 0.33857014 0.32916622 0.31195565 0.2840449  0.3018769\n",
            " 0.30629485 0.33569605 0.33275398 0.34028877 0.32057793 0.32009244\n",
            " 0.30372661 0.313349   0.33013234 0.32009729 0.29924555 0.28517609\n",
            " 0.30242065 0.32103429 0.33626407 0.35266873 0.36032489 0.39567818\n",
            " 0.39816874 0.40535882 0.40376642 0.44318811 0.44694094 0.44423191\n",
            " 0.43627475 0.43966831 0.46921516 0.44290652 0.42081679 0.42639991\n",
            " 0.41097593 0.38691511 0.39226519 0.4094612  0.39131849 0.41563389\n",
            " 0.42295006 0.4334206  0.44501698 0.45708022 0.46939591 0.48188803\n",
            " 0.49455127 0.50743246 0.52061796 0.5342204  0.54836804 0.56319427\n",
            " 0.57883263 0.59541273 0.61305809 0.63188708 0.65201306 0.67354882\n",
            " 0.69660735 0.72130507 0.74776459 0.7761156  0.80649537 0.83904815\n",
            " 0.873923   0.91126913 0.95123053 0.99393672]\n",
            "29 day output [[1.0394939]]\n",
            "[[0.415633887052536], [0.42295005917549133], [0.4334205985069275], [0.4450169801712036], [0.457080215215683], [0.4693959057331085], [0.4818880259990692], [0.49455127120018005], [0.5074324607849121], [0.5206179618835449], [0.5342203974723816], [0.5483680367469788], [0.5631942749023438], [0.5788326263427734], [0.5954127311706543], [0.6130580902099609], [0.6318870782852173], [0.6520130634307861], [0.6735488176345825], [0.6966073513031006], [0.7213050723075867], [0.7477645874023438], [0.7761155962944031], [0.8064953684806824], [0.8390481472015381], [0.8739230036735535], [0.9112691283226013], [0.951230525970459], [0.9939367175102234], [1.0394939184188843]]\n"
          ]
        }
      ]
    },
    {
      "cell_type": "code",
      "source": [
        "day_new=np.arange(1,101)\n",
        "day_pred=np.arange(101,131)"
      ],
      "metadata": {
        "id": "iKjn4T_5f3oX"
      },
      "execution_count": 26,
      "outputs": []
    },
    {
      "cell_type": "code",
      "source": [
        "#plot the prediction\n",
        "plt.plot(day_new,scaler.inverse_transform(df1[1158:]))\n",
        "plt.plot(day_pred,scaler.inverse_transform(lst_output))\n"
      ],
      "metadata": {
        "colab": {
          "base_uri": "https://localhost:8080/",
          "height": 283
        },
        "id": "hj4_b1IPgCU-",
        "outputId": "51b0a546-b6a1-4826-e023-50116b5c73eb"
      },
      "execution_count": 27,
      "outputs": [
        {
          "output_type": "execute_result",
          "data": {
            "text/plain": [
              "[<matplotlib.lines.Line2D at 0x7f5ca0196290>]"
            ]
          },
          "metadata": {},
          "execution_count": 27
        },
        {
          "output_type": "display_data",
          "data": {
            "text/plain": [
              "<Figure size 432x288 with 1 Axes>"
            ],
            "image/png": "[encoded data removed]"
          },
          "metadata": {
            "needs_background": "light"
          }
        }
      ]
    },
    {
      "cell_type": "code",
      "source": [
        "#create another plot\n",
        "df3=df1.tolist()\n",
        "df3.extend(lst_output)\n",
        "plt.plot(df3[1200:])\n"
      ],
      "metadata": {
        "colab": {
          "base_uri": "https://localhost:8080/",
          "height": 283
        },
        "id": "lKmACqa8gJzX",
        "outputId": "0494098a-9240-4b6c-93b5-1cbba7f9d1c4"
      },
      "execution_count": 28,
      "outputs": [
        {
          "output_type": "execute_result",
          "data": {
            "text/plain": [
              "[<matplotlib.lines.Line2D at 0x7f5ca00cde50>]"
            ]
          },
          "metadata": {},
          "execution_count": 28
        },
        {
          "output_type": "display_data",
          "data": {
            "text/plain": [
              "<Figure size 432x288 with 1 Axes>"
            ],
            "image/png": "[encoded data removed]"
          },
          "metadata": {
            "needs_background": "light"
          }
        }
      ]
    },
    {
      "cell_type": "code",
      "source": [
        "df3=scaler.inverse_transform(df3).tolist()\n",
        "plt.plot(df3);"
      ],
      "metadata": {
        "colab": {
          "base_uri": "https://localhost:8080/",
          "height": 265
        },
        "id": "-UhPOIWYgRuk",
        "outputId": "e39b6127-ffd9-459c-aba9-6729c820f56b"
      },
      "execution_count": 29,
      "outputs": [
        {
          "output_type": "display_data",
          "data": {
            "text/plain": [
              "<Figure size 432x288 with 1 Axes>"
            ],
            "image/png": "[encoded data removed]"
          },
          "metadata": {
            "needs_background": "light"
          }
        }
      ]
    },
    {
      "cell_type": "code",
      "source": [
        ""
      ],
      "metadata": {
        "id": "YcZ0fRo1gYGF"
      },
      "execution_count": 29,
      "outputs": []
    }
  ]
}